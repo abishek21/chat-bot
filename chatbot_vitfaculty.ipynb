{
  "nbformat": 4,
  "nbformat_minor": 0,
  "metadata": {
    "colab": {
      "name": "chatbot_vitfaculty.ipynb",
      "provenance": []
    },
    "kernelspec": {
      "name": "python3",
      "display_name": "Python 3"
    }
  },
  "cells": [
    {
      "cell_type": "code",
      "metadata": {
        "id": "H9frgW8WStCf",
        "colab_type": "code",
        "outputId": "1d663444-4725-498b-dcf6-d2ce6bf80fc5",
        "colab": {
          "base_uri": "https://localhost:8080/",
          "height": 68
        }
      },
      "source": [
        "import nltk\n",
        "nltk.download('punkt')"
      ],
      "execution_count": 1,
      "outputs": [
        {
          "output_type": "stream",
          "text": [
            "[nltk_data] Downloading package punkt to /root/nltk_data...\n",
            "[nltk_data]   Unzipping tokenizers/punkt.zip.\n"
          ],
          "name": "stdout"
        },
        {
          "output_type": "execute_result",
          "data": {
            "text/plain": [
              "True"
            ]
          },
          "metadata": {
            "tags": []
          },
          "execution_count": 1
        }
      ]
    },
    {
      "cell_type": "code",
      "metadata": {
        "id": "G-_3f3EcOriU",
        "colab_type": "code",
        "colab": {}
      },
      "source": [
        "#import nltk\n",
        "from nltk.stem.lancaster import LancasterStemmer\n",
        "stemmer = LancasterStemmer()\n",
        "\n",
        "import numpy\n",
        "import tflearn\n",
        "import tensorflow\n",
        "import random\n",
        "\n",
        "import json\n",
        "with open('chatbot_vitfaculty.json') as file:\n",
        "    data = json.load(file)\n",
        "\n",
        "\n",
        "words = []\n",
        "labels = []\n",
        "docs_x = []\n",
        "docs_y = []\n",
        "\n",
        "for intent in data['intents']:\n",
        "    for pattern in intent['patterns']:\n",
        "        wrds = nltk.word_tokenize(pattern)\n",
        "        words.extend(wrds)\n",
        "        docs_x.append(wrds)\n",
        "        docs_y.append(intent[\"tag\"])\n",
        "        \n",
        "    if intent['tag'] not in labels:\n",
        "        labels.append(intent['tag'])"
      ],
      "execution_count": 0,
      "outputs": []
    },
    {
      "cell_type": "code",
      "metadata": {
        "id": "fYuKJYGmSxFc",
        "colab_type": "code",
        "colab": {
          "base_uri": "https://localhost:8080/",
          "height": 1000
        },
        "outputId": "3af0f449-436e-49a3-97ac-dfab982f6ebe"
      },
      "source": [
        "words"
      ],
      "execution_count": 5,
      "outputs": [
        {
          "output_type": "execute_result",
          "data": {
            "text/plain": [
              "['Hi',\n",
              " 'How',\n",
              " 'are',\n",
              " 'you',\n",
              " 'Is',\n",
              " 'anyone',\n",
              " 'there',\n",
              " '?',\n",
              " 'Hello',\n",
              " 'Good',\n",
              " 'day',\n",
              " 'Whats',\n",
              " 'up',\n",
              " 'cya',\n",
              " 'See',\n",
              " 'you',\n",
              " 'later',\n",
              " 'Goodbye',\n",
              " 'I',\n",
              " 'am',\n",
              " 'Leaving',\n",
              " 'Have',\n",
              " 'a',\n",
              " 'Good',\n",
              " 'day',\n",
              " 'Mam',\n",
              " 'may',\n",
              " 'I',\n",
              " 'known',\n",
              " 'your',\n",
              " 'free',\n",
              " 'time',\n",
              " '?',\n",
              " 'when',\n",
              " 'are',\n",
              " 'you',\n",
              " 'free',\n",
              " 'mam',\n",
              " '?',\n",
              " 'what',\n",
              " 'are',\n",
              " 'your',\n",
              " 'free',\n",
              " 'slots',\n",
              " 'mam',\n",
              " '?',\n",
              " 'when',\n",
              " 'is',\n",
              " 'your',\n",
              " 'free',\n",
              " 'time',\n",
              " 'mam',\n",
              " '?',\n",
              " 'when',\n",
              " 'can',\n",
              " 'we',\n",
              " 'come',\n",
              " 'for',\n",
              " 'review',\n",
              " 'mam',\n",
              " 'when',\n",
              " 'is',\n",
              " 'the',\n",
              " 'review',\n",
              " 'mam',\n",
              " 'Mam',\n",
              " 'you',\n",
              " 'have',\n",
              " 'marked',\n",
              " 'me',\n",
              " 'absent',\n",
              " 'today',\n",
              " 'Mam',\n",
              " 'i',\n",
              " 'am',\n",
              " 'debarred',\n",
              " 'please',\n",
              " 'give',\n",
              " 'me',\n",
              " 'attendance',\n",
              " 'Mam',\n",
              " 'can',\n",
              " 'you',\n",
              " 'please',\n",
              " 'give',\n",
              " 'me',\n",
              " 'one',\n",
              " 'class',\n",
              " 'attendance',\n",
              " 'when',\n",
              " 'is',\n",
              " 'the',\n",
              " 'quiz',\n",
              " 'mam',\n",
              " 'what',\n",
              " 'time',\n",
              " 'is',\n",
              " 'the',\n",
              " 'quiz',\n",
              " 'mam']"
            ]
          },
          "metadata": {
            "tags": []
          },
          "execution_count": 5
        }
      ]
    },
    {
      "cell_type": "code",
      "metadata": {
        "id": "2PBxeBCXSzYP",
        "colab_type": "code",
        "outputId": "f09db123-b9bf-4765-f50a-df090dcf70aa",
        "colab": {
          "base_uri": "https://localhost:8080/",
          "height": 833
        }
      },
      "source": [
        "data['intents']"
      ],
      "execution_count": 6,
      "outputs": [
        {
          "output_type": "execute_result",
          "data": {
            "text/plain": [
              "[{'context_set': '',\n",
              "  'patterns': ['Hi',\n",
              "   'How are you',\n",
              "   'Is anyone there?',\n",
              "   'Hello',\n",
              "   'Good day',\n",
              "   'Whats up'],\n",
              "  'responses': ['Hello!',\n",
              "   'Good to see you again!',\n",
              "   'Hi there, how can I help?'],\n",
              "  'tag': 'greeting'},\n",
              " {'context_set': '',\n",
              "  'patterns': ['cya',\n",
              "   'See you later',\n",
              "   'Goodbye',\n",
              "   'I am Leaving',\n",
              "   'Have a Good day'],\n",
              "  'responses': ['Sad to see you go :(', 'Talk to you later', 'Goodbye!'],\n",
              "  'tag': 'goodbye'},\n",
              " {'context_set': '',\n",
              "  'patterns': ['Mam may I known your free time?',\n",
              "   'when are you free mam?',\n",
              "   'what are your free slots mam?',\n",
              "   'when is your free time mam?'],\n",
              "  'responses': ['I am free after 3',\n",
              "   'I am not free today',\n",
              "   \"I am busy today let's meet tommorrow\",\n",
              "   'come after 5 p.m'],\n",
              "  'tag': 'free time'},\n",
              " {'context_set': '',\n",
              "  'patterns': ['when can we come for review mam', 'when is the review mam'],\n",
              "  'responses': ['I am free after 3',\n",
              "   'I am not free today',\n",
              "   \"I am busy today let's meet tommorrow\",\n",
              "   'come after 5 p.m'],\n",
              "  'tag': 'Review'},\n",
              " {'context_set': '',\n",
              "  'patterns': ['Mam you have marked me absent today',\n",
              "   'Mam i am debarred please give me attendance',\n",
              "   'Mam can you please give me one class attendance'],\n",
              "  'responses': ['Come to my cabin',\n",
              "   'sorry I cannot help',\n",
              "   'ok I will take care'],\n",
              "  'tag': 'Attendance'},\n",
              " {'context_set': '',\n",
              "  'patterns': ['when is the quiz mam', 'what time is the quiz mam'],\n",
              "  'responses': ['Tonight a 9 p.m', 'postponed to next week'],\n",
              "  'tag': 'quiz'}]"
            ]
          },
          "metadata": {
            "tags": []
          },
          "execution_count": 6
        }
      ]
    },
    {
      "cell_type": "code",
      "metadata": {
        "id": "F-b45nBAS4u2",
        "colab_type": "code",
        "colab": {}
      },
      "source": [
        "words = [stemmer.stem(w.lower()) for w in words if w != \"?\"]\n",
        "words = sorted(list(set(words)))"
      ],
      "execution_count": 0,
      "outputs": []
    },
    {
      "cell_type": "code",
      "metadata": {
        "id": "CiKOCIp_T8ze",
        "colab_type": "code",
        "colab": {
          "base_uri": "https://localhost:8080/",
          "height": 799
        },
        "outputId": "a33d4a48-d98c-4679-a306-2420b988e548"
      },
      "source": [
        "words"
      ],
      "execution_count": 8,
      "outputs": [
        {
          "output_type": "execute_result",
          "data": {
            "text/plain": [
              "['a',\n",
              " 'abs',\n",
              " 'am',\n",
              " 'anyon',\n",
              " 'ar',\n",
              " 'attend',\n",
              " 'can',\n",
              " 'class',\n",
              " 'com',\n",
              " 'cya',\n",
              " 'day',\n",
              " 'debar',\n",
              " 'for',\n",
              " 'fre',\n",
              " 'giv',\n",
              " 'good',\n",
              " 'goodby',\n",
              " 'hav',\n",
              " 'hello',\n",
              " 'hi',\n",
              " 'how',\n",
              " 'i',\n",
              " 'is',\n",
              " 'known',\n",
              " 'lat',\n",
              " 'leav',\n",
              " 'mam',\n",
              " 'mark',\n",
              " 'may',\n",
              " 'me',\n",
              " 'on',\n",
              " 'pleas',\n",
              " 'quiz',\n",
              " 'review',\n",
              " 'see',\n",
              " 'slot',\n",
              " 'the',\n",
              " 'ther',\n",
              " 'tim',\n",
              " 'today',\n",
              " 'up',\n",
              " 'we',\n",
              " 'what',\n",
              " 'when',\n",
              " 'yo',\n",
              " 'you']"
            ]
          },
          "metadata": {
            "tags": []
          },
          "execution_count": 8
        }
      ]
    },
    {
      "cell_type": "code",
      "metadata": {
        "id": "81Ae8wfgT-LE",
        "colab_type": "code",
        "colab": {}
      },
      "source": [
        "labels = sorted(labels)"
      ],
      "execution_count": 0,
      "outputs": []
    },
    {
      "cell_type": "code",
      "metadata": {
        "id": "MtB8z1qMUB6r",
        "colab_type": "code",
        "outputId": "817d3ed7-1fcf-471e-e6ec-dcf07c96238f",
        "colab": {
          "base_uri": "https://localhost:8080/",
          "height": 34
        }
      },
      "source": [
        "labels"
      ],
      "execution_count": 10,
      "outputs": [
        {
          "output_type": "execute_result",
          "data": {
            "text/plain": [
              "['Attendance', 'Review', 'free time', 'goodbye', 'greeting', 'quiz']"
            ]
          },
          "metadata": {
            "tags": []
          },
          "execution_count": 10
        }
      ]
    },
    {
      "cell_type": "code",
      "metadata": {
        "id": "MZHTpbYKUDGH",
        "colab_type": "code",
        "colab": {}
      },
      "source": [
        "training = []\n",
        "output = []\n",
        "\n",
        "out_empty = [0 for _ in range(len(labels))]\n",
        "\n",
        "for x, doc in enumerate(docs_x):\n",
        "    bag = []\n",
        "\n",
        "    wrds = [stemmer.stem(w.lower()) for w in doc]\n",
        "\n",
        "    for w in words:\n",
        "        if w in wrds:\n",
        "            bag.append(1)\n",
        "        else:\n",
        "            bag.append(0)\n",
        "\n",
        "    output_row = out_empty[:]\n",
        "    output_row[labels.index(docs_y[x])] = 1\n",
        "\n",
        "    training.append(bag)\n",
        "    output.append(output_row)\n",
        "\n",
        "\n",
        "training = numpy.array(training)\n",
        "output = numpy.array(output)"
      ],
      "execution_count": 0,
      "outputs": []
    },
    {
      "cell_type": "code",
      "metadata": {
        "id": "uJK1uAB_UMAy",
        "colab_type": "code",
        "outputId": "5965a1a7-d659-4897-c044-5434e826405e",
        "colab": {
          "base_uri": "https://localhost:8080/",
          "height": 136
        }
      },
      "source": [
        "training"
      ],
      "execution_count": 12,
      "outputs": [
        {
          "output_type": "execute_result",
          "data": {
            "text/plain": [
              "array([[0, 0, 0, ..., 0, 0, 0],\n",
              "       [0, 0, 0, ..., 0, 0, 1],\n",
              "       [0, 0, 0, ..., 0, 0, 0],\n",
              "       ...,\n",
              "       [0, 0, 0, ..., 0, 0, 1],\n",
              "       [0, 0, 0, ..., 1, 0, 0],\n",
              "       [0, 0, 0, ..., 0, 0, 0]])"
            ]
          },
          "metadata": {
            "tags": []
          },
          "execution_count": 12
        }
      ]
    },
    {
      "cell_type": "code",
      "metadata": {
        "id": "LDprWN4OUSMZ",
        "colab_type": "code",
        "colab": {
          "base_uri": "https://localhost:8080/",
          "height": 632
        },
        "outputId": "ec072f53-41fd-4ab3-ef99-701404c1b8a4"
      },
      "source": [
        "tensorflow.reset_default_graph()\n",
        "\n",
        "net = tflearn.input_data(shape=[None, len(training[0])])\n",
        "net = tflearn.fully_connected(net, 8)\n",
        "net = tflearn.fully_connected(net, 8)\n",
        "net = tflearn.fully_connected(net, len(output[0]), activation=\"softmax\")\n",
        "net = tflearn.regression(net)\n",
        "\n",
        "model = tflearn.DNN(net)"
      ],
      "execution_count": 13,
      "outputs": [
        {
          "output_type": "stream",
          "text": [
            "WARNING:tensorflow:From /usr/local/lib/python3.6/dist-packages/tflearn/layers/core.py:81: The name tf.placeholder is deprecated. Please use tf.compat.v1.placeholder instead.\n",
            "\n",
            "WARNING:tensorflow:From /usr/local/lib/python3.6/dist-packages/tflearn/layers/core.py:145: The name tf.variable_scope is deprecated. Please use tf.compat.v1.variable_scope instead.\n",
            "\n",
            "WARNING:tensorflow:From /usr/local/lib/python3.6/dist-packages/tflearn/initializations.py:174: calling TruncatedNormal.__init__ (from tensorflow.python.ops.init_ops) with dtype is deprecated and will be removed in a future version.\n",
            "Instructions for updating:\n",
            "Call initializer instance with the dtype argument instead of passing it to the constructor\n",
            "WARNING:tensorflow:From /usr/local/lib/python3.6/dist-packages/tflearn/optimizers.py:238: The name tf.train.AdamOptimizer is deprecated. Please use tf.compat.v1.train.AdamOptimizer instead.\n",
            "\n",
            "WARNING:tensorflow:From /usr/local/lib/python3.6/dist-packages/tflearn/objectives.py:66: calling reduce_sum_v1 (from tensorflow.python.ops.math_ops) with keep_dims is deprecated and will be removed in a future version.\n",
            "Instructions for updating:\n",
            "keep_dims is deprecated, use keepdims instead\n",
            "WARNING:tensorflow:From /usr/local/lib/python3.6/dist-packages/tflearn/objectives.py:70: The name tf.log is deprecated. Please use tf.math.log instead.\n",
            "\n",
            "WARNING:tensorflow:From /usr/local/lib/python3.6/dist-packages/tflearn/layers/estimator.py:189: The name tf.trainable_variables is deprecated. Please use tf.compat.v1.trainable_variables instead.\n",
            "\n",
            "WARNING:tensorflow:From /usr/local/lib/python3.6/dist-packages/tflearn/helpers/trainer.py:571: The name tf.get_default_graph is deprecated. Please use tf.compat.v1.get_default_graph instead.\n",
            "\n",
            "WARNING:tensorflow:From /usr/local/lib/python3.6/dist-packages/tflearn/helpers/trainer.py:115: The name tf.Session is deprecated. Please use tf.compat.v1.Session instead.\n",
            "\n",
            "WARNING:tensorflow:From /usr/local/lib/python3.6/dist-packages/tflearn/summaries.py:46: The name tf.summary.scalar is deprecated. Please use tf.compat.v1.summary.scalar instead.\n",
            "\n",
            "WARNING:tensorflow:From /usr/local/lib/python3.6/dist-packages/tensorflow_core/python/ops/math_grad.py:1424: where (from tensorflow.python.ops.array_ops) is deprecated and will be removed in a future version.\n",
            "Instructions for updating:\n",
            "Use tf.where in 2.0, which has the same broadcast rule as np.where\n",
            "WARNING:tensorflow:From /usr/local/lib/python3.6/dist-packages/tflearn/helpers/trainer.py:134: The name tf.train.Saver is deprecated. Please use tf.compat.v1.train.Saver instead.\n",
            "\n",
            "WARNING:tensorflow:From /usr/local/lib/python3.6/dist-packages/tflearn/helpers/trainer.py:164: The name tf.global_variables_initializer is deprecated. Please use tf.compat.v1.global_variables_initializer instead.\n",
            "\n",
            "WARNING:tensorflow:From /usr/local/lib/python3.6/dist-packages/tflearn/helpers/trainer.py:165: The name tf.local_variables_initializer is deprecated. Please use tf.compat.v1.local_variables_initializer instead.\n",
            "\n",
            "WARNING:tensorflow:From /usr/local/lib/python3.6/dist-packages/tflearn/helpers/trainer.py:166: The name tf.variables_initializer is deprecated. Please use tf.compat.v1.variables_initializer instead.\n",
            "\n",
            "WARNING:tensorflow:From /usr/local/lib/python3.6/dist-packages/tflearn/helpers/trainer.py:167: The name tf.get_collection_ref is deprecated. Please use tf.compat.v1.get_collection_ref instead.\n",
            "\n"
          ],
          "name": "stdout"
        }
      ]
    },
    {
      "cell_type": "code",
      "metadata": {
        "id": "FoYFndvtUYrx",
        "colab_type": "code",
        "outputId": "0fe917a5-cef0-4449-9da3-d75e2679a408",
        "colab": {
          "base_uri": "https://localhost:8080/",
          "height": 119
        }
      },
      "source": [
        "model.fit(training, output, n_epoch=1000, batch_size=8, show_metric=True)\n",
        "model.save(\"model.tflearn\")"
      ],
      "execution_count": 14,
      "outputs": [
        {
          "output_type": "stream",
          "text": [
            "Training Step: 2999  | total loss: \u001b[1m\u001b[32m0.56712\u001b[0m\u001b[0m | time: 0.010s\n",
            "| Adam | epoch: 1000 | loss: 0.56712 - acc: 0.8932 -- iter: 16/22\n",
            "Training Step: 3000  | total loss: \u001b[1m\u001b[32m0.78266\u001b[0m\u001b[0m | time: 0.015s\n",
            "| Adam | epoch: 1000 | loss: 0.78266 - acc: 0.8205 -- iter: 22/22\n",
            "--\n",
            "INFO:tensorflow:/content/model.tflearn is not in all_model_checkpoint_paths. Manually adding it.\n"
          ],
          "name": "stdout"
        }
      ]
    },
    {
      "cell_type": "code",
      "metadata": {
        "id": "WPDnchK5Ubea",
        "colab_type": "code",
        "outputId": "5f369c87-aead-4a1c-953f-ba4fbbe7a7be",
        "colab": {
          "base_uri": "https://localhost:8080/",
          "height": 255
        }
      },
      "source": [
        "def bag_of_words(s, words):\n",
        "    bag = [0 for _ in range(len(words))]\n",
        "\n",
        "    s_words = nltk.word_tokenize(s)\n",
        "    s_words = [stemmer.stem(word.lower()) for word in s_words]\n",
        "\n",
        "    for se in s_words:\n",
        "        for i, w in enumerate(words):\n",
        "            if w == se:\n",
        "                bag[i] = 1\n",
        "            \n",
        "    return numpy.array(bag)\n",
        "\n",
        "\n",
        "def chat():\n",
        "    print(\"Start talking with the bot (type quit to stop)!\")\n",
        "    while True:\n",
        "        inp = input(\"You: \")\n",
        "        if inp.lower() == \"quit\":\n",
        "            break\n",
        "\n",
        "        results = model.predict([bag_of_words(inp, words)])\n",
        "        results_index = numpy.argmax(results)\n",
        "        tag = labels[results_index]\n",
        "\n",
        "        for tg in data[\"intents\"]:\n",
        "            if tg['tag'] == tag:\n",
        "                responses = tg['responses']\n",
        "\n",
        "        print(random.choice(responses))\n",
        "\n",
        "chat()"
      ],
      "execution_count": 15,
      "outputs": [
        {
          "output_type": "stream",
          "text": [
            "Start talking with the bot (type quit to stop)!\n",
            "You: what about the review?\n",
            "I am busy today let's meet tommorrow\n",
            "You: ok mam\n",
            "Hello!\n",
            "You: when is the quiz?\n",
            "postponed to next week\n",
            "You: can you please give me attendance?\n",
            "sorry I cannot help\n",
            "You: mam you wrongly marked me absent\n",
            "ok I will take care\n",
            "You: thanks mam\n",
            "Hi there, how can I help?\n",
            "You: quit\n"
          ],
          "name": "stdout"
        }
      ]
    },
    {
      "cell_type": "code",
      "metadata": {
        "id": "rY7nsfqFUqkz",
        "colab_type": "code",
        "colab": {}
      },
      "source": [
        ""
      ],
      "execution_count": 0,
      "outputs": []
    }
  ]
}